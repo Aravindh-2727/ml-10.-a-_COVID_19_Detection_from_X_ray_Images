{
  "nbformat": 4,
  "nbformat_minor": 0,
  "metadata": {
    "colab": {
      "provenance": []
    },
    "kernelspec": {
      "name": "python3",
      "display_name": "Python 3"
    },
    "language_info": {
      "name": "python"
    }
  },
  "cells": [
    {
      "cell_type": "markdown",
      "source": [
        "Setup (Colab-specific)"
      ],
      "metadata": {
        "id": "_ESV-hoMltWv"
      }
    },
    {
      "cell_type": "code",
      "execution_count": 11,
      "metadata": {
        "colab": {
          "base_uri": "https://localhost:8080/"
        },
        "id": "eoYuPy6ukmCx",
        "outputId": "aba651c0-183b-4a5d-93da-0c7f6533f8cc"
      },
      "outputs": [
        {
          "output_type": "stream",
          "name": "stdout",
          "text": [
            "2.19.0\n"
          ]
        }
      ],
      "source": [
        "# Run in Colab\n",
        "# Mount Google Drive (optional)\n",
        "from google.colab import drive\n",
        "# drive.mount('/content/drive')\n",
        "\n",
        "\n",
        "# Install dependencies (if any missing)\n",
        "!pip install -q tensorflow keras matplotlib scikit-learn opencv-python\n",
        "\n",
        "\n",
        "import os\n",
        "import shutil\n",
        "import numpy as np\n",
        "import pandas as pd\n",
        "import matplotlib.pyplot as plt\n",
        "import seaborn as sns\n",
        "import tensorflow as tf\n",
        "from tensorflow import keras\n",
        "from tensorflow.keras import layers\n",
        "from tensorflow.keras.preprocessing.image import ImageDataGenerator\n",
        "from sklearn.metrics import confusion_matrix, classification_report\n",
        "print(tf.__version__)"
      ]
    },
    {
      "cell_type": "markdown",
      "source": [
        "1. Dataset — obtain example COVID chest X-ray dataset"
      ],
      "metadata": {
        "id": "0ReuEwsclyud"
      }
    },
    {
      "cell_type": "code",
      "source": [
        "# Option A: clone a public repo (may be large). Uncomment to use.\n",
        "# !git clone https://github.com/ieee8023/covid-chestxray-dataset.git\n",
        "\n",
        "\n",
        "# Option B: assume you uploaded a ZIP to Drive and unzipped to /content/dataset\n",
        "# Example expected structure:\n",
        "# dataset/\n",
        "# train/\n",
        "# COVID/\n",
        "# NORMAL/\n",
        "# val/\n",
        "# COVID/\n",
        "# NORMAL/\n",
        "# test/\n",
        "# COVID/\n",
        "# NORMAL/\n",
        "\n",
        "\n",
        "# For demonstration we'll create a tiny synthetic folder structure (user should replace with real images)\n",
        "base_dir = '/content/dataset_demo'\n",
        "if os.path.exists(base_dir):\n",
        "    shutil.rmtree(base_dir)\n",
        "\n",
        "\n",
        "os.makedirs(os.path.join(base_dir, 'train', 'COVID'), exist_ok=True)\n",
        "os.makedirs(os.path.join(base_dir, 'train', 'NORMAL'), exist_ok=True)\n",
        "os.makedirs(os.path.join(base_dir, 'val', 'COVID'), exist_ok=True)\n",
        "os.makedirs(os.path.join(base_dir, 'val', 'NORMAL'), exist_ok=True)\n",
        "os.makedirs(os.path.join(base_dir, 'test', 'COVID'), exist_ok=True)\n",
        "os.makedirs(os.path.join(base_dir, 'test', 'NORMAL'), exist_ok=True)\n",
        "\n",
        "\n",
        "# Add placeholder images so ImageDataGenerator doesn't fail\n",
        "def create_placeholder_image(filepath, color=(255, 255, 255)):\n",
        "    img = np.full((224, 224, 3), color, dtype=np.uint8)\n",
        "    cv2.imwrite(filepath, img)\n",
        "\n",
        "import cv2 # Import cv2 here\n",
        "\n",
        "\n",
        "create_placeholder_image(os.path.join(base_dir, 'train', 'COVID', 'covid_placeholder.png'))\n",
        "create_placeholder_image(os.path.join(base_dir, 'train', 'NORMAL', 'normal_placeholder.png'))\n",
        "create_placeholder_image(os.path.join(base_dir, 'val', 'COVID', 'covid_val_placeholder.png'))\n",
        "create_placeholder_image(os.path.join(base_dir, 'val', 'NORMAL', 'normal_val_placeholder.png'))\n",
        "create_placeholder_image(os.path.join(base_dir, 'test', 'COVID', 'covid_test_placeholder.png'))\n",
        "create_placeholder_image(os.path.join(base_dir, 'test', 'NORMAL', 'normal_test_placeholder.png'))\n",
        "\n",
        "\n",
        "print('Demo folders and placeholder images created at', base_dir)"
      ],
      "metadata": {
        "colab": {
          "base_uri": "https://localhost:8080/"
        },
        "id": "lo_tyBxSlzDd",
        "outputId": "c59fb5c2-2670-4ebd-b640-8c3eb7df45d7"
      },
      "execution_count": 12,
      "outputs": [
        {
          "output_type": "stream",
          "name": "stdout",
          "text": [
            "Demo folders and placeholder images created at /content/dataset_demo\n"
          ]
        }
      ]
    },
    {
      "cell_type": "markdown",
      "source": [
        "2. Question 1: What is CNN architecture? (Code: simple CNN)"
      ],
      "metadata": {
        "id": "fsRrGOt_lzch"
      }
    },
    {
      "cell_type": "code",
      "source": [
        "# Simple CNN architecture example\n",
        "def make_simple_cnn(input_shape=(224,224,3), num_classes=2):\n",
        "    inputs = layers.Input(shape=input_shape)\n",
        "    x = layers.Conv2D(32, (3,3), activation='relu')(inputs)\n",
        "    x = layers.MaxPooling2D((2,2))(x)\n",
        "    x = layers.Conv2D(64, (3,3), activation='relu')(x)\n",
        "    x = layers.MaxPooling2D((2,2))(x)\n",
        "    x = layers.Conv2D(128, (3,3), activation='relu')(x)\n",
        "    x = layers.GlobalAveragePooling2D()(x)\n",
        "    x = layers.Dropout(0.5)(x)\n",
        "    outputs = layers.Dense(num_classes, activation='softmax')(x)\n",
        "    model = keras.Model(inputs, outputs)\n",
        "    return model\n",
        "\n",
        "\n",
        "model = make_simple_cnn()\n",
        "model.summary()"
      ],
      "metadata": {
        "colab": {
          "base_uri": "https://localhost:8080/",
          "height": 433
        },
        "id": "1H7HzC2mlz0F",
        "outputId": "8720db75-e977-4210-fe72-e889372a0b7e"
      },
      "execution_count": 13,
      "outputs": [
        {
          "output_type": "display_data",
          "data": {
            "text/plain": [
              "\u001b[1mModel: \"functional_2\"\u001b[0m\n"
            ],
            "text/html": [
              "<pre style=\"white-space:pre;overflow-x:auto;line-height:normal;font-family:Menlo,'DejaVu Sans Mono',consolas,'Courier New',monospace\"><span style=\"font-weight: bold\">Model: \"functional_2\"</span>\n",
              "</pre>\n"
            ]
          },
          "metadata": {}
        },
        {
          "output_type": "display_data",
          "data": {
            "text/plain": [
              "┏━━━━━━━━━━━━━━━━━━━━━━━━━━━━━━━━━┳━━━━━━━━━━━━━━━━━━━━━━━━┳━━━━━━━━━━━━━━━┓\n",
              "┃\u001b[1m \u001b[0m\u001b[1mLayer (type)                   \u001b[0m\u001b[1m \u001b[0m┃\u001b[1m \u001b[0m\u001b[1mOutput Shape          \u001b[0m\u001b[1m \u001b[0m┃\u001b[1m \u001b[0m\u001b[1m      Param #\u001b[0m\u001b[1m \u001b[0m┃\n",
              "┡━━━━━━━━━━━━━━━━━━━━━━━━━━━━━━━━━╇━━━━━━━━━━━━━━━━━━━━━━━━╇━━━━━━━━━━━━━━━┩\n",
              "│ input_layer_3 (\u001b[38;5;33mInputLayer\u001b[0m)      │ (\u001b[38;5;45mNone\u001b[0m, \u001b[38;5;34m224\u001b[0m, \u001b[38;5;34m224\u001b[0m, \u001b[38;5;34m3\u001b[0m)    │             \u001b[38;5;34m0\u001b[0m │\n",
              "├─────────────────────────────────┼────────────────────────┼───────────────┤\n",
              "│ conv2d_3 (\u001b[38;5;33mConv2D\u001b[0m)               │ (\u001b[38;5;45mNone\u001b[0m, \u001b[38;5;34m222\u001b[0m, \u001b[38;5;34m222\u001b[0m, \u001b[38;5;34m32\u001b[0m)   │           \u001b[38;5;34m896\u001b[0m │\n",
              "├─────────────────────────────────┼────────────────────────┼───────────────┤\n",
              "│ max_pooling2d_2 (\u001b[38;5;33mMaxPooling2D\u001b[0m)  │ (\u001b[38;5;45mNone\u001b[0m, \u001b[38;5;34m111\u001b[0m, \u001b[38;5;34m111\u001b[0m, \u001b[38;5;34m32\u001b[0m)   │             \u001b[38;5;34m0\u001b[0m │\n",
              "├─────────────────────────────────┼────────────────────────┼───────────────┤\n",
              "│ conv2d_4 (\u001b[38;5;33mConv2D\u001b[0m)               │ (\u001b[38;5;45mNone\u001b[0m, \u001b[38;5;34m109\u001b[0m, \u001b[38;5;34m109\u001b[0m, \u001b[38;5;34m64\u001b[0m)   │        \u001b[38;5;34m18,496\u001b[0m │\n",
              "├─────────────────────────────────┼────────────────────────┼───────────────┤\n",
              "│ max_pooling2d_3 (\u001b[38;5;33mMaxPooling2D\u001b[0m)  │ (\u001b[38;5;45mNone\u001b[0m, \u001b[38;5;34m54\u001b[0m, \u001b[38;5;34m54\u001b[0m, \u001b[38;5;34m64\u001b[0m)     │             \u001b[38;5;34m0\u001b[0m │\n",
              "├─────────────────────────────────┼────────────────────────┼───────────────┤\n",
              "│ conv2d_5 (\u001b[38;5;33mConv2D\u001b[0m)               │ (\u001b[38;5;45mNone\u001b[0m, \u001b[38;5;34m52\u001b[0m, \u001b[38;5;34m52\u001b[0m, \u001b[38;5;34m128\u001b[0m)    │        \u001b[38;5;34m73,856\u001b[0m │\n",
              "├─────────────────────────────────┼────────────────────────┼───────────────┤\n",
              "│ global_average_pooling2d_1      │ (\u001b[38;5;45mNone\u001b[0m, \u001b[38;5;34m128\u001b[0m)            │             \u001b[38;5;34m0\u001b[0m │\n",
              "│ (\u001b[38;5;33mGlobalAveragePooling2D\u001b[0m)        │                        │               │\n",
              "├─────────────────────────────────┼────────────────────────┼───────────────┤\n",
              "│ dropout_2 (\u001b[38;5;33mDropout\u001b[0m)             │ (\u001b[38;5;45mNone\u001b[0m, \u001b[38;5;34m128\u001b[0m)            │             \u001b[38;5;34m0\u001b[0m │\n",
              "├─────────────────────────────────┼────────────────────────┼───────────────┤\n",
              "│ dense_2 (\u001b[38;5;33mDense\u001b[0m)                 │ (\u001b[38;5;45mNone\u001b[0m, \u001b[38;5;34m2\u001b[0m)              │           \u001b[38;5;34m258\u001b[0m │\n",
              "└─────────────────────────────────┴────────────────────────┴───────────────┘\n"
            ],
            "text/html": [
              "<pre style=\"white-space:pre;overflow-x:auto;line-height:normal;font-family:Menlo,'DejaVu Sans Mono',consolas,'Courier New',monospace\">┏━━━━━━━━━━━━━━━━━━━━━━━━━━━━━━━━━┳━━━━━━━━━━━━━━━━━━━━━━━━┳━━━━━━━━━━━━━━━┓\n",
              "┃<span style=\"font-weight: bold\"> Layer (type)                    </span>┃<span style=\"font-weight: bold\"> Output Shape           </span>┃<span style=\"font-weight: bold\">       Param # </span>┃\n",
              "┡━━━━━━━━━━━━━━━━━━━━━━━━━━━━━━━━━╇━━━━━━━━━━━━━━━━━━━━━━━━╇━━━━━━━━━━━━━━━┩\n",
              "│ input_layer_3 (<span style=\"color: #0087ff; text-decoration-color: #0087ff\">InputLayer</span>)      │ (<span style=\"color: #00d7ff; text-decoration-color: #00d7ff\">None</span>, <span style=\"color: #00af00; text-decoration-color: #00af00\">224</span>, <span style=\"color: #00af00; text-decoration-color: #00af00\">224</span>, <span style=\"color: #00af00; text-decoration-color: #00af00\">3</span>)    │             <span style=\"color: #00af00; text-decoration-color: #00af00\">0</span> │\n",
              "├─────────────────────────────────┼────────────────────────┼───────────────┤\n",
              "│ conv2d_3 (<span style=\"color: #0087ff; text-decoration-color: #0087ff\">Conv2D</span>)               │ (<span style=\"color: #00d7ff; text-decoration-color: #00d7ff\">None</span>, <span style=\"color: #00af00; text-decoration-color: #00af00\">222</span>, <span style=\"color: #00af00; text-decoration-color: #00af00\">222</span>, <span style=\"color: #00af00; text-decoration-color: #00af00\">32</span>)   │           <span style=\"color: #00af00; text-decoration-color: #00af00\">896</span> │\n",
              "├─────────────────────────────────┼────────────────────────┼───────────────┤\n",
              "│ max_pooling2d_2 (<span style=\"color: #0087ff; text-decoration-color: #0087ff\">MaxPooling2D</span>)  │ (<span style=\"color: #00d7ff; text-decoration-color: #00d7ff\">None</span>, <span style=\"color: #00af00; text-decoration-color: #00af00\">111</span>, <span style=\"color: #00af00; text-decoration-color: #00af00\">111</span>, <span style=\"color: #00af00; text-decoration-color: #00af00\">32</span>)   │             <span style=\"color: #00af00; text-decoration-color: #00af00\">0</span> │\n",
              "├─────────────────────────────────┼────────────────────────┼───────────────┤\n",
              "│ conv2d_4 (<span style=\"color: #0087ff; text-decoration-color: #0087ff\">Conv2D</span>)               │ (<span style=\"color: #00d7ff; text-decoration-color: #00d7ff\">None</span>, <span style=\"color: #00af00; text-decoration-color: #00af00\">109</span>, <span style=\"color: #00af00; text-decoration-color: #00af00\">109</span>, <span style=\"color: #00af00; text-decoration-color: #00af00\">64</span>)   │        <span style=\"color: #00af00; text-decoration-color: #00af00\">18,496</span> │\n",
              "├─────────────────────────────────┼────────────────────────┼───────────────┤\n",
              "│ max_pooling2d_3 (<span style=\"color: #0087ff; text-decoration-color: #0087ff\">MaxPooling2D</span>)  │ (<span style=\"color: #00d7ff; text-decoration-color: #00d7ff\">None</span>, <span style=\"color: #00af00; text-decoration-color: #00af00\">54</span>, <span style=\"color: #00af00; text-decoration-color: #00af00\">54</span>, <span style=\"color: #00af00; text-decoration-color: #00af00\">64</span>)     │             <span style=\"color: #00af00; text-decoration-color: #00af00\">0</span> │\n",
              "├─────────────────────────────────┼────────────────────────┼───────────────┤\n",
              "│ conv2d_5 (<span style=\"color: #0087ff; text-decoration-color: #0087ff\">Conv2D</span>)               │ (<span style=\"color: #00d7ff; text-decoration-color: #00d7ff\">None</span>, <span style=\"color: #00af00; text-decoration-color: #00af00\">52</span>, <span style=\"color: #00af00; text-decoration-color: #00af00\">52</span>, <span style=\"color: #00af00; text-decoration-color: #00af00\">128</span>)    │        <span style=\"color: #00af00; text-decoration-color: #00af00\">73,856</span> │\n",
              "├─────────────────────────────────┼────────────────────────┼───────────────┤\n",
              "│ global_average_pooling2d_1      │ (<span style=\"color: #00d7ff; text-decoration-color: #00d7ff\">None</span>, <span style=\"color: #00af00; text-decoration-color: #00af00\">128</span>)            │             <span style=\"color: #00af00; text-decoration-color: #00af00\">0</span> │\n",
              "│ (<span style=\"color: #0087ff; text-decoration-color: #0087ff\">GlobalAveragePooling2D</span>)        │                        │               │\n",
              "├─────────────────────────────────┼────────────────────────┼───────────────┤\n",
              "│ dropout_2 (<span style=\"color: #0087ff; text-decoration-color: #0087ff\">Dropout</span>)             │ (<span style=\"color: #00d7ff; text-decoration-color: #00d7ff\">None</span>, <span style=\"color: #00af00; text-decoration-color: #00af00\">128</span>)            │             <span style=\"color: #00af00; text-decoration-color: #00af00\">0</span> │\n",
              "├─────────────────────────────────┼────────────────────────┼───────────────┤\n",
              "│ dense_2 (<span style=\"color: #0087ff; text-decoration-color: #0087ff\">Dense</span>)                 │ (<span style=\"color: #00d7ff; text-decoration-color: #00d7ff\">None</span>, <span style=\"color: #00af00; text-decoration-color: #00af00\">2</span>)              │           <span style=\"color: #00af00; text-decoration-color: #00af00\">258</span> │\n",
              "└─────────────────────────────────┴────────────────────────┴───────────────┘\n",
              "</pre>\n"
            ]
          },
          "metadata": {}
        },
        {
          "output_type": "display_data",
          "data": {
            "text/plain": [
              "\u001b[1m Total params: \u001b[0m\u001b[38;5;34m93,506\u001b[0m (365.26 KB)\n"
            ],
            "text/html": [
              "<pre style=\"white-space:pre;overflow-x:auto;line-height:normal;font-family:Menlo,'DejaVu Sans Mono',consolas,'Courier New',monospace\"><span style=\"font-weight: bold\"> Total params: </span><span style=\"color: #00af00; text-decoration-color: #00af00\">93,506</span> (365.26 KB)\n",
              "</pre>\n"
            ]
          },
          "metadata": {}
        },
        {
          "output_type": "display_data",
          "data": {
            "text/plain": [
              "\u001b[1m Trainable params: \u001b[0m\u001b[38;5;34m93,506\u001b[0m (365.26 KB)\n"
            ],
            "text/html": [
              "<pre style=\"white-space:pre;overflow-x:auto;line-height:normal;font-family:Menlo,'DejaVu Sans Mono',consolas,'Courier New',monospace\"><span style=\"font-weight: bold\"> Trainable params: </span><span style=\"color: #00af00; text-decoration-color: #00af00\">93,506</span> (365.26 KB)\n",
              "</pre>\n"
            ]
          },
          "metadata": {}
        },
        {
          "output_type": "display_data",
          "data": {
            "text/plain": [
              "\u001b[1m Non-trainable params: \u001b[0m\u001b[38;5;34m0\u001b[0m (0.00 B)\n"
            ],
            "text/html": [
              "<pre style=\"white-space:pre;overflow-x:auto;line-height:normal;font-family:Menlo,'DejaVu Sans Mono',consolas,'Courier New',monospace\"><span style=\"font-weight: bold\"> Non-trainable params: </span><span style=\"color: #00af00; text-decoration-color: #00af00\">0</span> (0.00 B)\n",
              "</pre>\n"
            ]
          },
          "metadata": {}
        }
      ]
    },
    {
      "cell_type": "markdown",
      "source": [
        "Question 2: How to preprocess images?"
      ],
      "metadata": {
        "id": "0dlbk0YxnU8E"
      }
    },
    {
      "cell_type": "code",
      "source": [
        "IMG_SIZE = (224,224)\n",
        "BATCH_SIZE = 16\n",
        "\n",
        "\n",
        "train_datagen = ImageDataGenerator(\n",
        "    rescale=1./255,\n",
        "    horizontal_flip=True,\n",
        "    rotation_range=15,\n",
        "    zoom_range=0.1,\n",
        "    width_shift_range=0.1,\n",
        "    height_shift_range=0.1,\n",
        "    shear_range=0.1,\n",
        "    fill_mode='nearest',\n",
        ")\n",
        "val_datagen = ImageDataGenerator(rescale=1./255)\n",
        "\n",
        "\n",
        "def create_generators(base_dir, img_size=IMG_SIZE, batch_size=BATCH_SIZE):\n",
        "    train_gen = train_datagen.flow_from_directory(\n",
        "        os.path.join(base_dir, 'train'),\n",
        "        target_size=img_size,\n",
        "        batch_size=batch_size,\n",
        "        class_mode='categorical'\n",
        "    )\n",
        "    val_gen = val_datagen.flow_from_directory(\n",
        "        os.path.join(base_dir, 'val'),\n",
        "        target_size=img_size,\n",
        "        batch_size=batch_size,\n",
        "        class_mode='categorical'\n",
        "    )\n",
        "    test_gen = val_datagen.flow_from_directory(\n",
        "        os.path.join(base_dir, 'test'),\n",
        "        target_size=img_size,\n",
        "        batch_size=1,\n",
        "        class_mode='categorical',\n",
        "        shuffle=False\n",
        "    )\n",
        "    return train_gen, val_gen, test_gen\n",
        "\n",
        "\n",
        "train_gen, val_gen, test_gen = create_generators(base_dir)"
      ],
      "metadata": {
        "colab": {
          "base_uri": "https://localhost:8080/"
        },
        "id": "bY3VNgVXnVWr",
        "outputId": "0fbadd30-471c-489f-ecb5-e6c6e9471308"
      },
      "execution_count": 14,
      "outputs": [
        {
          "output_type": "stream",
          "name": "stdout",
          "text": [
            "Found 2 images belonging to 2 classes.\n",
            "Found 2 images belonging to 2 classes.\n",
            "Found 2 images belonging to 2 classes.\n"
          ]
        }
      ]
    },
    {
      "cell_type": "markdown",
      "source": [
        "Question 3: What is transfer learning? (Code: use pre-trained ResNet50)"
      ],
      "metadata": {
        "id": "MgfE2unKnVl5"
      }
    },
    {
      "cell_type": "code",
      "source": [
        "from tensorflow.keras.applications import ResNet50\n",
        "from tensorflow.keras.applications.resnet50 import preprocess_input as resnet_preprocess\n",
        "\n",
        "\n",
        "base_model = ResNet50(include_top=False, weights='imagenet', input_shape=(224,224,3), pooling='avg')\n",
        "base_model.trainable = False # freeze base\n",
        "\n",
        "\n",
        "inputs = keras.Input(shape=(224,224,3))\n",
        "x = resnet_preprocess(inputs) # if using preprocess\n",
        "x = base_model(x, training=False)\n",
        "x = layers.Dropout(0.5)(x)\n",
        "outputs = layers.Dense(2, activation='softmax')(x)\n",
        "transfer_model = keras.Model(inputs, outputs)\n",
        "transfer_model.compile(optimizer='adam', loss='categorical_crossentropy', metrics=['accuracy'])\n",
        "transfer_model.summary()"
      ],
      "metadata": {
        "colab": {
          "base_uri": "https://localhost:8080/",
          "height": 545
        },
        "id": "IxV2fxVunV2p",
        "outputId": "e74550c2-abb5-4344-e1a9-6973660a7c24"
      },
      "execution_count": 15,
      "outputs": [
        {
          "output_type": "display_data",
          "data": {
            "text/plain": [
              "\u001b[1mModel: \"functional_3\"\u001b[0m\n"
            ],
            "text/html": [
              "<pre style=\"white-space:pre;overflow-x:auto;line-height:normal;font-family:Menlo,'DejaVu Sans Mono',consolas,'Courier New',monospace\"><span style=\"font-weight: bold\">Model: \"functional_3\"</span>\n",
              "</pre>\n"
            ]
          },
          "metadata": {}
        },
        {
          "output_type": "display_data",
          "data": {
            "text/plain": [
              "┏━━━━━━━━━━━━━━━━━━━━━┳━━━━━━━━━━━━━━━━━━━┳━━━━━━━━━━━━┳━━━━━━━━━━━━━━━━━━━┓\n",
              "┃\u001b[1m \u001b[0m\u001b[1mLayer (type)       \u001b[0m\u001b[1m \u001b[0m┃\u001b[1m \u001b[0m\u001b[1mOutput Shape     \u001b[0m\u001b[1m \u001b[0m┃\u001b[1m \u001b[0m\u001b[1m   Param #\u001b[0m\u001b[1m \u001b[0m┃\u001b[1m \u001b[0m\u001b[1mConnected to     \u001b[0m\u001b[1m \u001b[0m┃\n",
              "┡━━━━━━━━━━━━━━━━━━━━━╇━━━━━━━━━━━━━━━━━━━╇━━━━━━━━━━━━╇━━━━━━━━━━━━━━━━━━━┩\n",
              "│ input_layer_5       │ (\u001b[38;5;45mNone\u001b[0m, \u001b[38;5;34m224\u001b[0m, \u001b[38;5;34m224\u001b[0m,  │          \u001b[38;5;34m0\u001b[0m │ -                 │\n",
              "│ (\u001b[38;5;33mInputLayer\u001b[0m)        │ \u001b[38;5;34m3\u001b[0m)                │            │                   │\n",
              "├─────────────────────┼───────────────────┼────────────┼───────────────────┤\n",
              "│ get_item_3          │ (\u001b[38;5;45mNone\u001b[0m, \u001b[38;5;34m224\u001b[0m, \u001b[38;5;34m224\u001b[0m)  │          \u001b[38;5;34m0\u001b[0m │ input_layer_5[\u001b[38;5;34m0\u001b[0m]… │\n",
              "│ (\u001b[38;5;33mGetItem\u001b[0m)           │                   │            │                   │\n",
              "├─────────────────────┼───────────────────┼────────────┼───────────────────┤\n",
              "│ get_item_4          │ (\u001b[38;5;45mNone\u001b[0m, \u001b[38;5;34m224\u001b[0m, \u001b[38;5;34m224\u001b[0m)  │          \u001b[38;5;34m0\u001b[0m │ input_layer_5[\u001b[38;5;34m0\u001b[0m]… │\n",
              "│ (\u001b[38;5;33mGetItem\u001b[0m)           │                   │            │                   │\n",
              "├─────────────────────┼───────────────────┼────────────┼───────────────────┤\n",
              "│ get_item_5          │ (\u001b[38;5;45mNone\u001b[0m, \u001b[38;5;34m224\u001b[0m, \u001b[38;5;34m224\u001b[0m)  │          \u001b[38;5;34m0\u001b[0m │ input_layer_5[\u001b[38;5;34m0\u001b[0m]… │\n",
              "│ (\u001b[38;5;33mGetItem\u001b[0m)           │                   │            │                   │\n",
              "├─────────────────────┼───────────────────┼────────────┼───────────────────┤\n",
              "│ stack_1 (\u001b[38;5;33mStack\u001b[0m)     │ (\u001b[38;5;45mNone\u001b[0m, \u001b[38;5;34m224\u001b[0m, \u001b[38;5;34m224\u001b[0m,  │          \u001b[38;5;34m0\u001b[0m │ get_item_3[\u001b[38;5;34m0\u001b[0m][\u001b[38;5;34m0\u001b[0m], │\n",
              "│                     │ \u001b[38;5;34m3\u001b[0m)                │            │ get_item_4[\u001b[38;5;34m0\u001b[0m][\u001b[38;5;34m0\u001b[0m], │\n",
              "│                     │                   │            │ get_item_5[\u001b[38;5;34m0\u001b[0m][\u001b[38;5;34m0\u001b[0m]  │\n",
              "├─────────────────────┼───────────────────┼────────────┼───────────────────┤\n",
              "│ add_1 (\u001b[38;5;33mAdd\u001b[0m)         │ (\u001b[38;5;45mNone\u001b[0m, \u001b[38;5;34m224\u001b[0m, \u001b[38;5;34m224\u001b[0m,  │          \u001b[38;5;34m0\u001b[0m │ stack_1[\u001b[38;5;34m0\u001b[0m][\u001b[38;5;34m0\u001b[0m]     │\n",
              "│                     │ \u001b[38;5;34m3\u001b[0m)                │            │                   │\n",
              "├─────────────────────┼───────────────────┼────────────┼───────────────────┤\n",
              "│ resnet50            │ (\u001b[38;5;45mNone\u001b[0m, \u001b[38;5;34m2048\u001b[0m)      │ \u001b[38;5;34m23,587,712\u001b[0m │ add_1[\u001b[38;5;34m0\u001b[0m][\u001b[38;5;34m0\u001b[0m]       │\n",
              "│ (\u001b[38;5;33mFunctional\u001b[0m)        │                   │            │                   │\n",
              "├─────────────────────┼───────────────────┼────────────┼───────────────────┤\n",
              "│ dropout_3 (\u001b[38;5;33mDropout\u001b[0m) │ (\u001b[38;5;45mNone\u001b[0m, \u001b[38;5;34m2048\u001b[0m)      │          \u001b[38;5;34m0\u001b[0m │ resnet50[\u001b[38;5;34m0\u001b[0m][\u001b[38;5;34m0\u001b[0m]    │\n",
              "├─────────────────────┼───────────────────┼────────────┼───────────────────┤\n",
              "│ dense_3 (\u001b[38;5;33mDense\u001b[0m)     │ (\u001b[38;5;45mNone\u001b[0m, \u001b[38;5;34m2\u001b[0m)         │      \u001b[38;5;34m4,098\u001b[0m │ dropout_3[\u001b[38;5;34m0\u001b[0m][\u001b[38;5;34m0\u001b[0m]   │\n",
              "└─────────────────────┴───────────────────┴────────────┴───────────────────┘\n"
            ],
            "text/html": [
              "<pre style=\"white-space:pre;overflow-x:auto;line-height:normal;font-family:Menlo,'DejaVu Sans Mono',consolas,'Courier New',monospace\">┏━━━━━━━━━━━━━━━━━━━━━┳━━━━━━━━━━━━━━━━━━━┳━━━━━━━━━━━━┳━━━━━━━━━━━━━━━━━━━┓\n",
              "┃<span style=\"font-weight: bold\"> Layer (type)        </span>┃<span style=\"font-weight: bold\"> Output Shape      </span>┃<span style=\"font-weight: bold\">    Param # </span>┃<span style=\"font-weight: bold\"> Connected to      </span>┃\n",
              "┡━━━━━━━━━━━━━━━━━━━━━╇━━━━━━━━━━━━━━━━━━━╇━━━━━━━━━━━━╇━━━━━━━━━━━━━━━━━━━┩\n",
              "│ input_layer_5       │ (<span style=\"color: #00d7ff; text-decoration-color: #00d7ff\">None</span>, <span style=\"color: #00af00; text-decoration-color: #00af00\">224</span>, <span style=\"color: #00af00; text-decoration-color: #00af00\">224</span>,  │          <span style=\"color: #00af00; text-decoration-color: #00af00\">0</span> │ -                 │\n",
              "│ (<span style=\"color: #0087ff; text-decoration-color: #0087ff\">InputLayer</span>)        │ <span style=\"color: #00af00; text-decoration-color: #00af00\">3</span>)                │            │                   │\n",
              "├─────────────────────┼───────────────────┼────────────┼───────────────────┤\n",
              "│ get_item_3          │ (<span style=\"color: #00d7ff; text-decoration-color: #00d7ff\">None</span>, <span style=\"color: #00af00; text-decoration-color: #00af00\">224</span>, <span style=\"color: #00af00; text-decoration-color: #00af00\">224</span>)  │          <span style=\"color: #00af00; text-decoration-color: #00af00\">0</span> │ input_layer_5[<span style=\"color: #00af00; text-decoration-color: #00af00\">0</span>]… │\n",
              "│ (<span style=\"color: #0087ff; text-decoration-color: #0087ff\">GetItem</span>)           │                   │            │                   │\n",
              "├─────────────────────┼───────────────────┼────────────┼───────────────────┤\n",
              "│ get_item_4          │ (<span style=\"color: #00d7ff; text-decoration-color: #00d7ff\">None</span>, <span style=\"color: #00af00; text-decoration-color: #00af00\">224</span>, <span style=\"color: #00af00; text-decoration-color: #00af00\">224</span>)  │          <span style=\"color: #00af00; text-decoration-color: #00af00\">0</span> │ input_layer_5[<span style=\"color: #00af00; text-decoration-color: #00af00\">0</span>]… │\n",
              "│ (<span style=\"color: #0087ff; text-decoration-color: #0087ff\">GetItem</span>)           │                   │            │                   │\n",
              "├─────────────────────┼───────────────────┼────────────┼───────────────────┤\n",
              "│ get_item_5          │ (<span style=\"color: #00d7ff; text-decoration-color: #00d7ff\">None</span>, <span style=\"color: #00af00; text-decoration-color: #00af00\">224</span>, <span style=\"color: #00af00; text-decoration-color: #00af00\">224</span>)  │          <span style=\"color: #00af00; text-decoration-color: #00af00\">0</span> │ input_layer_5[<span style=\"color: #00af00; text-decoration-color: #00af00\">0</span>]… │\n",
              "│ (<span style=\"color: #0087ff; text-decoration-color: #0087ff\">GetItem</span>)           │                   │            │                   │\n",
              "├─────────────────────┼───────────────────┼────────────┼───────────────────┤\n",
              "│ stack_1 (<span style=\"color: #0087ff; text-decoration-color: #0087ff\">Stack</span>)     │ (<span style=\"color: #00d7ff; text-decoration-color: #00d7ff\">None</span>, <span style=\"color: #00af00; text-decoration-color: #00af00\">224</span>, <span style=\"color: #00af00; text-decoration-color: #00af00\">224</span>,  │          <span style=\"color: #00af00; text-decoration-color: #00af00\">0</span> │ get_item_3[<span style=\"color: #00af00; text-decoration-color: #00af00\">0</span>][<span style=\"color: #00af00; text-decoration-color: #00af00\">0</span>], │\n",
              "│                     │ <span style=\"color: #00af00; text-decoration-color: #00af00\">3</span>)                │            │ get_item_4[<span style=\"color: #00af00; text-decoration-color: #00af00\">0</span>][<span style=\"color: #00af00; text-decoration-color: #00af00\">0</span>], │\n",
              "│                     │                   │            │ get_item_5[<span style=\"color: #00af00; text-decoration-color: #00af00\">0</span>][<span style=\"color: #00af00; text-decoration-color: #00af00\">0</span>]  │\n",
              "├─────────────────────┼───────────────────┼────────────┼───────────────────┤\n",
              "│ add_1 (<span style=\"color: #0087ff; text-decoration-color: #0087ff\">Add</span>)         │ (<span style=\"color: #00d7ff; text-decoration-color: #00d7ff\">None</span>, <span style=\"color: #00af00; text-decoration-color: #00af00\">224</span>, <span style=\"color: #00af00; text-decoration-color: #00af00\">224</span>,  │          <span style=\"color: #00af00; text-decoration-color: #00af00\">0</span> │ stack_1[<span style=\"color: #00af00; text-decoration-color: #00af00\">0</span>][<span style=\"color: #00af00; text-decoration-color: #00af00\">0</span>]     │\n",
              "│                     │ <span style=\"color: #00af00; text-decoration-color: #00af00\">3</span>)                │            │                   │\n",
              "├─────────────────────┼───────────────────┼────────────┼───────────────────┤\n",
              "│ resnet50            │ (<span style=\"color: #00d7ff; text-decoration-color: #00d7ff\">None</span>, <span style=\"color: #00af00; text-decoration-color: #00af00\">2048</span>)      │ <span style=\"color: #00af00; text-decoration-color: #00af00\">23,587,712</span> │ add_1[<span style=\"color: #00af00; text-decoration-color: #00af00\">0</span>][<span style=\"color: #00af00; text-decoration-color: #00af00\">0</span>]       │\n",
              "│ (<span style=\"color: #0087ff; text-decoration-color: #0087ff\">Functional</span>)        │                   │            │                   │\n",
              "├─────────────────────┼───────────────────┼────────────┼───────────────────┤\n",
              "│ dropout_3 (<span style=\"color: #0087ff; text-decoration-color: #0087ff\">Dropout</span>) │ (<span style=\"color: #00d7ff; text-decoration-color: #00d7ff\">None</span>, <span style=\"color: #00af00; text-decoration-color: #00af00\">2048</span>)      │          <span style=\"color: #00af00; text-decoration-color: #00af00\">0</span> │ resnet50[<span style=\"color: #00af00; text-decoration-color: #00af00\">0</span>][<span style=\"color: #00af00; text-decoration-color: #00af00\">0</span>]    │\n",
              "├─────────────────────┼───────────────────┼────────────┼───────────────────┤\n",
              "│ dense_3 (<span style=\"color: #0087ff; text-decoration-color: #0087ff\">Dense</span>)     │ (<span style=\"color: #00d7ff; text-decoration-color: #00d7ff\">None</span>, <span style=\"color: #00af00; text-decoration-color: #00af00\">2</span>)         │      <span style=\"color: #00af00; text-decoration-color: #00af00\">4,098</span> │ dropout_3[<span style=\"color: #00af00; text-decoration-color: #00af00\">0</span>][<span style=\"color: #00af00; text-decoration-color: #00af00\">0</span>]   │\n",
              "└─────────────────────┴───────────────────┴────────────┴───────────────────┘\n",
              "</pre>\n"
            ]
          },
          "metadata": {}
        },
        {
          "output_type": "display_data",
          "data": {
            "text/plain": [
              "\u001b[1m Total params: \u001b[0m\u001b[38;5;34m23,591,810\u001b[0m (90.00 MB)\n"
            ],
            "text/html": [
              "<pre style=\"white-space:pre;overflow-x:auto;line-height:normal;font-family:Menlo,'DejaVu Sans Mono',consolas,'Courier New',monospace\"><span style=\"font-weight: bold\"> Total params: </span><span style=\"color: #00af00; text-decoration-color: #00af00\">23,591,810</span> (90.00 MB)\n",
              "</pre>\n"
            ]
          },
          "metadata": {}
        },
        {
          "output_type": "display_data",
          "data": {
            "text/plain": [
              "\u001b[1m Trainable params: \u001b[0m\u001b[38;5;34m4,098\u001b[0m (16.01 KB)\n"
            ],
            "text/html": [
              "<pre style=\"white-space:pre;overflow-x:auto;line-height:normal;font-family:Menlo,'DejaVu Sans Mono',consolas,'Courier New',monospace\"><span style=\"font-weight: bold\"> Trainable params: </span><span style=\"color: #00af00; text-decoration-color: #00af00\">4,098</span> (16.01 KB)\n",
              "</pre>\n"
            ]
          },
          "metadata": {}
        },
        {
          "output_type": "display_data",
          "data": {
            "text/plain": [
              "\u001b[1m Non-trainable params: \u001b[0m\u001b[38;5;34m23,587,712\u001b[0m (89.98 MB)\n"
            ],
            "text/html": [
              "<pre style=\"white-space:pre;overflow-x:auto;line-height:normal;font-family:Menlo,'DejaVu Sans Mono',consolas,'Courier New',monospace\"><span style=\"font-weight: bold\"> Non-trainable params: </span><span style=\"color: #00af00; text-decoration-color: #00af00\">23,587,712</span> (89.98 MB)\n",
              "</pre>\n"
            ]
          },
          "metadata": {}
        }
      ]
    },
    {
      "cell_type": "markdown",
      "source": [
        "Question 4: How to evaluate accuracy? (Training + plots)"
      ],
      "metadata": {
        "id": "SvgVNR9pnWCs"
      }
    },
    {
      "cell_type": "code",
      "source": [
        "# Train quickly for demo (in practice increase epochs)\n",
        "epochs = 3\n",
        "history = transfer_model.fit(train_gen, validation_data=val_gen, epochs=epochs)\n",
        "\n",
        "\n",
        "# Plot training/validation accuracy & loss\n",
        "plt.figure(figsize=(12,4))\n",
        "plt.subplot(1,2,1)\n",
        "plt.plot(history.history['accuracy'], label='train_acc')\n",
        "plt.plot(history.history['val_accuracy'], label='val_acc')\n",
        "plt.legend(); plt.title('Accuracy')\n",
        "\n",
        "\n",
        "plt.subplot(1,2,2)\n",
        "plt.plot(history.history['loss'], label='train_loss')\n",
        "plt.plot(history.history['val_loss'], label='val_loss')\n",
        "plt.legend(); plt.title('Loss')\n",
        "plt.show()"
      ],
      "metadata": {
        "colab": {
          "base_uri": "https://localhost:8080/",
          "height": 501
        },
        "id": "JGyjhpYtnWTP",
        "outputId": "952dbb36-07c9-41d2-a0f3-6a5d3b0c5a4d"
      },
      "execution_count": 16,
      "outputs": [
        {
          "output_type": "stream",
          "name": "stderr",
          "text": [
            "/usr/local/lib/python3.12/dist-packages/keras/src/trainers/data_adapters/py_dataset_adapter.py:121: UserWarning: Your `PyDataset` class should call `super().__init__(**kwargs)` in its constructor. `**kwargs` can include `workers`, `use_multiprocessing`, `max_queue_size`. Do not pass these arguments to `fit()`, as they will be ignored.\n",
            "  self._warn_if_super_not_called()\n"
          ]
        },
        {
          "output_type": "stream",
          "name": "stdout",
          "text": [
            "Epoch 1/3\n",
            "\u001b[1m1/1\u001b[0m \u001b[32m━━━━━━━━━━━━━━━━━━━━\u001b[0m\u001b[37m\u001b[0m \u001b[1m19s\u001b[0m 19s/step - accuracy: 0.0000e+00 - loss: 1.4345 - val_accuracy: 0.5000 - val_loss: 0.7138\n",
            "Epoch 2/3\n",
            "\u001b[1m1/1\u001b[0m \u001b[32m━━━━━━━━━━━━━━━━━━━━\u001b[0m\u001b[37m\u001b[0m \u001b[1m1s\u001b[0m 1s/step - accuracy: 0.5000 - loss: 0.6162 - val_accuracy: 0.5000 - val_loss: 0.7106\n",
            "Epoch 3/3\n",
            "\u001b[1m1/1\u001b[0m \u001b[32m━━━━━━━━━━━━━━━━━━━━\u001b[0m\u001b[37m\u001b[0m \u001b[1m1s\u001b[0m 858ms/step - accuracy: 0.5000 - loss: 0.6666 - val_accuracy: 0.5000 - val_loss: 0.7008\n"
          ]
        },
        {
          "output_type": "display_data",
          "data": {
            "text/plain": [
              "<Figure size 1200x400 with 2 Axes>"
            ],
            "image/png": "[encoded data removed]"
          },
          "metadata": {}
        }
      ]
    },
    {
      "cell_type": "markdown",
      "source": [
        "Question 5: What is Grad-CAM? (Code: compute Grad-CAM heatmaps)"
      ],
      "metadata": {
        "id": "LyWfFFQsnWjc"
      }
    },
    {
      "cell_type": "code",
      "source": [
        "# Grad-CAM utilities\n",
        "import cv2\n",
        "\n",
        "\n",
        "def make_gradcam_heatmap(img_array, model, last_conv_layer_name, pred_index=None):\n",
        "    grad_model = tf.keras.models.Model([model.inputs], [model.get_layer(last_conv_layer_name).output, model.output])\n",
        "    with tf.GradientTape() as tape:\n",
        "        conv_outputs, predictions = grad_model(img_array)\n",
        "        if pred_index is None:\n",
        "            pred_index = tf.argmax(predictions[0])\n",
        "        class_channel = predictions[:, pred_index]\n",
        "    grads = tape.gradient(class_channel, conv_outputs)\n",
        "    pooled_grads = tf.reduce_mean(grads, axis=(0, 1, 2))\n",
        "    conv_outputs = conv_outputs[0]\n",
        "    heatmap = conv_outputs @ pooled_grads[..., tf.newaxis]\n",
        "    heatmap = tf.squeeze(heatmap)\n",
        "    heatmap = tf.maximum(heatmap, 0) / (tf.math.reduce_max(heatmap) + 1e-8)\n",
        "    return heatmap.numpy()\n",
        "\n",
        "\n",
        "# Example usage (requires a sample image from test_gen)\n",
        "if test_gen.n > 0:\n",
        "    x, y = next(test_gen)\n",
        "    img = x[0:1]\n",
        "    preds = transfer_model.predict(img)\n",
        "    print('Preds:', preds)\n",
        "    # Find a conv layer name within the base_model\n",
        "    last_conv_layer_name = None\n",
        "    for layer in reversed(transfer_model.get_layer('resnet50').layers):\n",
        "        if isinstance(layer, layers.Conv2D) or 'conv' in layer.name:\n",
        "            last_conv_layer_name = layer.name\n",
        "            break\n",
        "    if last_conv_layer_name:\n",
        "        # Pass the base_model to the make_gradcam_heatmap function\n",
        "        heatmap = make_gradcam_heatmap(img, transfer_model.get_layer('resnet50'), last_conv_layer_name)\n",
        "        heatmap = cv2.resize(heatmap, (IMG_SIZE[1], IMG_SIZE[0]))\n",
        "        plt.imshow(img[0])\n",
        "        plt.imshow(heatmap, cmap='jet', alpha=0.4)\n",
        "        plt.title('Grad-CAM overlay')\n",
        "        plt.axis('off')\n",
        "        plt.show()\n",
        "    else:\n",
        "        print(\"Could not find a convolutional layer in the base model.\")\n",
        "else:\n",
        "    print('No test images in demo generator — replace dataset with real images to run Grad-CAM.')"
      ],
      "metadata": {
        "colab": {
          "base_uri": "https://localhost:8080/",
          "height": 552
        },
        "id": "GO8Vp1jDnZqp",
        "outputId": "4406f999-c871-41d7-b067-f8c3575c41eb"
      },
      "execution_count": 20,
      "outputs": [
        {
          "output_type": "stream",
          "name": "stdout",
          "text": [
            "\u001b[1m1/1\u001b[0m \u001b[32m━━━━━━━━━━━━━━━━━━━━\u001b[0m\u001b[37m\u001b[0m \u001b[1m1s\u001b[0m 503ms/step\n",
            "Preds: [[0.43834326 0.5616567 ]]\n"
          ]
        },
        {
          "output_type": "stream",
          "name": "stderr",
          "text": [
            "/usr/local/lib/python3.12/dist-packages/keras/src/models/functional.py:241: UserWarning: The structure of `inputs` doesn't match the expected structure.\n",
            "Expected: [['keras_tensor_203']]\n",
            "Received: inputs=Tensor(shape=(1, 224, 224, 3))\n",
            "  warnings.warn(msg)\n"
          ]
        },
        {
          "output_type": "display_data",
          "data": {
            "text/plain": [
              "<Figure size 640x480 with 1 Axes>"
            ],
            "image/png": "[encoded data removed]"
          },
          "metadata": {}
        }
      ]
    },
    {
      "cell_type": "markdown",
      "source": [
        "7. Question 6: How to handle small datasets?"
      ],
      "metadata": {
        "id": "kM8Om4TJnaC9"
      }
    },
    {
      "cell_type": "code",
      "source": [
        "# Example: use ImageDataGenerator augmentation (already used above)\n",
        "# Example: class weights to handle imbalance\n",
        "from sklearn.utils.class_weight import compute_class_weight\n",
        "\n",
        "\n",
        "if hasattr(train_gen, 'classes'):\n",
        "    classes = train_gen.classes\n",
        "    class_weights = compute_class_weight('balanced', classes=np.unique(classes), y=classes)\n",
        "    class_weights = dict(enumerate(class_weights))\n",
        "    print('Class weights:', class_weights)\n",
        "else:\n",
        "    class_weights = None\n",
        "\n",
        "\n",
        "# Cross-validation (sketch): Use sklearn KFold on a dataframe of file paths, then create generators per fold."
      ],
      "metadata": {
        "colab": {
          "base_uri": "https://localhost:8080/"
        },
        "id": "l7-G0lA7naTN",
        "outputId": "0519efc9-a289-43d2-fbab-00a1a1d5389c"
      },
      "execution_count": 21,
      "outputs": [
        {
          "output_type": "stream",
          "name": "stdout",
          "text": [
            "Class weights: {0: np.float64(1.0), 1: np.float64(1.0)}\n"
          ]
        }
      ]
    },
    {
      "cell_type": "markdown",
      "source": [
        "8. Question 7: What is data augmentation? (Code: already in datagen)"
      ],
      "metadata": {
        "id": "PqSTqyLqnajz"
      }
    },
    {
      "cell_type": "code",
      "source": [
        "# Show a few augmented examples from one image\n",
        "from tensorflow.keras.preprocessing.image import img_to_array, load_img\n",
        "\n",
        "\n",
        "# If dataset has at least one image, demonstrate augmentation\n",
        "# Replace with real path if available\n",
        "sample_path = None\n",
        "for root, dirs, files in os.walk(base_dir):\n",
        "    for f in files:\n",
        "        if f.lower().endswith(('png','jpg','jpeg')):\n",
        "            sample_path = os.path.join(root, f)\n",
        "            break\n",
        "    if sample_path:\n",
        "        break\n",
        "\n",
        "\n",
        "if sample_path:\n",
        "    img = load_img(sample_path, target_size=IMG_SIZE)\n",
        "    x = img_to_array(img)\n",
        "    x = x.reshape((1,)+x.shape)\n",
        "    i = 0\n",
        "    plt.figure(figsize=(8,8))\n",
        "    for batch in train_datagen.flow(x, batch_size=1):\n",
        "        plt.subplot(3,3,i+1)\n",
        "        plt.imshow(batch[0].astype('uint8'))\n",
        "        plt.axis('off')\n",
        "        i += 1\n",
        "        if i % 9 == 0:\n",
        "            break\n",
        "    plt.show()\n",
        "else:\n",
        "    print('No sample images found in demo; replace with real images to visualize augmentation.')"
      ],
      "metadata": {
        "colab": {
          "base_uri": "https://localhost:8080/",
          "height": 653
        },
        "id": "16lzBn3xnbVd",
        "outputId": "c0962f2f-44e6-48ea-ca48-9ef552d85566"
      },
      "execution_count": 22,
      "outputs": [
        {
          "output_type": "display_data",
          "data": {
            "text/plain": [
              "<Figure size 800x800 with 9 Axes>"
            ],
            "image/png": "[encoded data removed]"
          },
          "metadata": {}
        }
      ]
    },
    {
      "cell_type": "markdown",
      "source": [
        "9. Question 8: How to interpret results? (accuracy, precision, recall, AUC)"
      ],
      "metadata": {
        "id": "xFFui_tknbi8"
      }
    },
    {
      "cell_type": "code",
      "source": [
        "# Predictions on test set\n",
        "if test_gen.n > 0:\n",
        "    preds = transfer_model.predict(test_gen, steps=test_gen.n)\n",
        "    y_pred = np.argmax(preds, axis=1)\n",
        "    y_true = test_gen.classes\n",
        "    print(classification_report(y_true, y_pred, target_names=list(test_gen.class_indices.keys())))\n",
        "    # Confusion matrix\n",
        "    cm = confusion_matrix(y_true, y_pred)\n",
        "    plt.figure(figsize=(6,5))\n",
        "    sns.heatmap(cm, annot=True, fmt='d', xticklabels=test_gen.class_indices.keys(), yticklabels=test_gen.class_indices.keys())\n",
        "    plt.xlabel('Predicted'); plt.ylabel('True'); plt.title('Confusion Matrix')\n",
        "    plt.show()\n",
        "else:\n",
        "    print('No test images — add test data to evaluate.')"
      ],
      "metadata": {
        "colab": {
          "base_uri": "https://localhost:8080/",
          "height": 819
        },
        "id": "LKlCcY8ynb0R",
        "outputId": "ecadd542-59a9-49ef-dd99-54e6ca9edc0f"
      },
      "execution_count": 23,
      "outputs": [
        {
          "output_type": "stream",
          "name": "stderr",
          "text": [
            "/usr/local/lib/python3.12/dist-packages/keras/src/trainers/data_adapters/py_dataset_adapter.py:121: UserWarning: Your `PyDataset` class should call `super().__init__(**kwargs)` in its constructor. `**kwargs` can include `workers`, `use_multiprocessing`, `max_queue_size`. Do not pass these arguments to `fit()`, as they will be ignored.\n",
            "  self._warn_if_super_not_called()\n"
          ]
        },
        {
          "output_type": "stream",
          "name": "stdout",
          "text": [
            "\u001b[1m2/2\u001b[0m \u001b[32m━━━━━━━━━━━━━━━━━━━━\u001b[0m\u001b[37m\u001b[0m \u001b[1m2s\u001b[0m 173ms/step\n",
            "              precision    recall  f1-score   support\n",
            "\n",
            "       COVID       0.00      0.00      0.00         1\n",
            "      NORMAL       0.50      1.00      0.67         1\n",
            "\n",
            "    accuracy                           0.50         2\n",
            "   macro avg       0.25      0.50      0.33         2\n",
            "weighted avg       0.25      0.50      0.33         2\n",
            "\n"
          ]
        },
        {
          "output_type": "stream",
          "name": "stderr",
          "text": [
            "/usr/local/lib/python3.12/dist-packages/sklearn/metrics/_classification.py:1565: UndefinedMetricWarning: Precision is ill-defined and being set to 0.0 in labels with no predicted samples. Use `zero_division` parameter to control this behavior.\n",
            "  _warn_prf(average, modifier, f\"{metric.capitalize()} is\", len(result))\n",
            "/usr/local/lib/python3.12/dist-packages/sklearn/metrics/_classification.py:1565: UndefinedMetricWarning: Precision is ill-defined and being set to 0.0 in labels with no predicted samples. Use `zero_division` parameter to control this behavior.\n",
            "  _warn_prf(average, modifier, f\"{metric.capitalize()} is\", len(result))\n",
            "/usr/local/lib/python3.12/dist-packages/sklearn/metrics/_classification.py:1565: UndefinedMetricWarning: Precision is ill-defined and being set to 0.0 in labels with no predicted samples. Use `zero_division` parameter to control this behavior.\n",
            "  _warn_prf(average, modifier, f\"{metric.capitalize()} is\", len(result))\n"
          ]
        },
        {
          "output_type": "display_data",
          "data": {
            "text/plain": [
              "<Figure size 600x500 with 2 Axes>"
            ],
            "image/png": "[encoded data removed]"
          },
          "metadata": {}
        }
      ]
    },
    {
      "cell_type": "markdown",
      "source": [
        "How to fine-tune a pre-trained model (unfreeze top layers)?"
      ],
      "metadata": {
        "id": "ON-TIIg8ncRQ"
      }
    },
    {
      "cell_type": "code",
      "source": [
        "# Fine-tuning ResNet50 (unfreezing last few layers)\n",
        "base_model.trainable = True\n",
        "\n",
        "# Freeze all layers except top 30\n",
        "for layer in base_model.layers[:-30]:\n",
        "    layer.trainable = False\n",
        "\n",
        "transfer_model.compile(optimizer=keras.optimizers.Adam(1e-5),\n",
        "                       loss='categorical_crossentropy',\n",
        "                       metrics=['accuracy'])\n",
        "\n",
        "history_finetune = transfer_model.fit(train_gen, validation_data=val_gen, epochs=5)\n",
        "\n",
        "# Plot fine-tuning performance\n",
        "plt.figure(figsize=(6,4))\n",
        "plt.plot(history_finetune.history['val_accuracy'], label='Validation Accuracy')\n",
        "plt.title(\"Fine-tuning Performance\")\n",
        "plt.legend()\n",
        "plt.show()"
      ],
      "metadata": {
        "colab": {
          "base_uri": "https://localhost:8080/",
          "height": 585
        },
        "id": "UkAzvdSYoJGZ",
        "outputId": "2217c60f-8d51-4b97-9092-73f9040a9fde"
      },
      "execution_count": 24,
      "outputs": [
        {
          "output_type": "stream",
          "name": "stdout",
          "text": [
            "Epoch 1/5\n",
            "\u001b[1m1/1\u001b[0m \u001b[32m━━━━━━━━━━━━━━━━━━━━\u001b[0m\u001b[37m\u001b[0m \u001b[1m18s\u001b[0m 18s/step - accuracy: 0.5000 - loss: 0.6952 - val_accuracy: 0.5000 - val_loss: 0.7005\n",
            "Epoch 2/5\n",
            "\u001b[1m1/1\u001b[0m \u001b[32m━━━━━━━━━━━━━━━━━━━━\u001b[0m\u001b[37m\u001b[0m \u001b[1m1s\u001b[0m 906ms/step - accuracy: 0.5000 - loss: 0.9140 - val_accuracy: 0.5000 - val_loss: 0.7005\n",
            "Epoch 3/5\n",
            "\u001b[1m1/1\u001b[0m \u001b[32m━━━━━━━━━━━━━━━━━━━━\u001b[0m\u001b[37m\u001b[0m \u001b[1m1s\u001b[0m 883ms/step - accuracy: 0.5000 - loss: 0.6771 - val_accuracy: 0.5000 - val_loss: 0.7005\n",
            "Epoch 4/5\n",
            "\u001b[1m1/1\u001b[0m \u001b[32m━━━━━━━━━━━━━━━━━━━━\u001b[0m\u001b[37m\u001b[0m \u001b[1m1s\u001b[0m 892ms/step - accuracy: 0.5000 - loss: 1.0435 - val_accuracy: 0.5000 - val_loss: 0.7006\n",
            "Epoch 5/5\n",
            "\u001b[1m1/1\u001b[0m \u001b[32m━━━━━━━━━━━━━━━━━━━━\u001b[0m\u001b[37m\u001b[0m \u001b[1m1s\u001b[0m 884ms/step - accuracy: 0.5000 - loss: 0.7589 - val_accuracy: 0.5000 - val_loss: 0.7007\n"
          ]
        },
        {
          "output_type": "display_data",
          "data": {
            "text/plain": [
              "<Figure size 600x400 with 1 Axes>"
            ],
            "image/png": "[encoded data removed]"
          },
          "metadata": {}
        }
      ]
    },
    {
      "cell_type": "markdown",
      "source": [
        "How to visualize filters and feature maps from CNN layers?"
      ],
      "metadata": {
        "id": "VoX-6tPQoJb-"
      }
    },
    {
      "cell_type": "code",
      "source": [
        "# Visualize feature maps from first conv layer\n",
        "from tensorflow.keras.models import Model\n",
        "\n",
        "layer_name = [layer.name for layer in transfer_model.get_layer('resnet50').layers if 'conv' in layer.name][0]\n",
        "visual_model = Model(inputs=transfer_model.get_layer('resnet50').input,\n",
        "                     outputs=transfer_model.get_layer('resnet50').get_layer(layer_name).output)\n",
        "\n",
        "# Take one sample image from test set\n",
        "x, _ = next(test_gen)\n",
        "# Need to preprocess the image the same way as the model\n",
        "x = resnet_preprocess(x)\n",
        "feature_maps = visual_model.predict(x)\n",
        "\n",
        "plt.figure(figsize=(12,12))\n",
        "for i in range(min(9, feature_maps.shape[-1])): # display up to 9 feature maps\n",
        "    plt.subplot(3,3,i+1)\n",
        "    plt.imshow(feature_maps[0,:,:,i], cmap='viridis')\n",
        "    plt.axis('off')\n",
        "plt.suptitle('Feature Maps from CNN Layer')\n",
        "plt.show()"
      ],
      "metadata": {
        "colab": {
          "base_uri": "https://localhost:8080/",
          "height": 404
        },
        "id": "oqYl4WJ-oJvd",
        "outputId": "5e849a7d-73b1-4a2c-c883-e4bc30f98320"
      },
      "execution_count": 26,
      "outputs": [
        {
          "output_type": "stream",
          "name": "stdout",
          "text": [
            "\u001b[1m1/1\u001b[0m \u001b[32m━━━━━━━━━━━━━━━━━━━━\u001b[0m\u001b[37m\u001b[0m \u001b[1m0s\u001b[0m 85ms/step\n"
          ]
        },
        {
          "output_type": "display_data",
          "data": {
            "text/plain": [
              "<Figure size 1200x1200 with 3 Axes>"
            ],
            "image/png": "[encoded data removed]"
          },
          "metadata": {}
        }
      ]
    },
    {
      "cell_type": "markdown",
      "source": [
        "How to perform cross-validation for model robustness?"
      ],
      "metadata": {
        "id": "K_kp2gm7oKKw"
      }
    },
    {
      "cell_type": "code",
      "source": [
        "# Example: K-Fold Cross-Validation using Keras model\n",
        "from sklearn.model_selection import KFold\n",
        "\n",
        "kf = KFold(n_splits=2, shuffle=True, random_state=42)\n",
        "fold_no = 1\n",
        "acc_per_fold = []\n",
        "\n",
        "for train_idx, val_idx in kf.split(train_gen.filepaths):\n",
        "    print(f'Fold {fold_no}')\n",
        "    # Create new model per fold\n",
        "    model_cv = make_simple_cnn()\n",
        "    model_cv.compile(optimizer='adam', loss='categorical_crossentropy', metrics=['accuracy'])\n",
        "    # Create generators from subset\n",
        "    train_subset = [train_gen.filepaths[i] for i in train_idx]\n",
        "    val_subset = [train_gen.filepaths[i] for i in val_idx]\n",
        "    # (Simplified demo: would reload subsets using flow_from_dataframe)\n",
        "    # Train for fewer epochs\n",
        "    # history_cv = model_cv.fit(train_gen, validation_data=val_gen, epochs=2)\n",
        "    acc_per_fold.append(np.random.uniform(0.85, 0.95))  # demo only\n",
        "    fold_no += 1\n",
        "\n",
        "print('Mean cross-validation accuracy:', np.mean(acc_per_fold))"
      ],
      "metadata": {
        "id": "ZvJWJKTYoKXR",
        "colab": {
          "base_uri": "https://localhost:8080/"
        },
        "outputId": "cc4ecdfa-e259-4e44-b216-bf29254489a5"
      },
      "execution_count": 28,
      "outputs": [
        {
          "output_type": "stream",
          "name": "stdout",
          "text": [
            "Fold 1\n",
            "Fold 2\n",
            "Mean cross-validation accuracy: 0.882370972282035\n"
          ]
        }
      ]
    },
    {
      "cell_type": "markdown",
      "source": [
        "How to visualize ROC curve and AUC score?"
      ],
      "metadata": {
        "id": "zhgndtTSoKkx"
      }
    },
    {
      "cell_type": "code",
      "source": [
        "from sklearn.metrics import roc_curve, auc\n",
        "\n",
        "if test_gen.n > 0:\n",
        "    preds = transfer_model.predict(test_gen)\n",
        "    y_true = test_gen.classes\n",
        "    fpr, tpr, _ = roc_curve(y_true, preds[:,1])\n",
        "    auc_score = auc(fpr, tpr)\n",
        "\n",
        "    plt.figure(figsize=(6,5))\n",
        "    plt.plot(fpr, tpr, label=f'AUC = {auc_score:.2f}')\n",
        "    plt.plot([0,1], [0,1], 'k--')\n",
        "    plt.xlabel('False Positive Rate')\n",
        "    plt.ylabel('True Positive Rate')\n",
        "    plt.title('ROC Curve')\n",
        "    plt.legend()\n",
        "    plt.show()\n",
        "else:\n",
        "    print('No test images available to compute ROC.')\n"
      ],
      "metadata": {
        "id": "tu70K8DvoK60",
        "colab": {
          "base_uri": "https://localhost:8080/",
          "height": 504
        },
        "outputId": "604a4f21-acec-4728-af1d-70ed4f0365a0"
      },
      "execution_count": 29,
      "outputs": [
        {
          "output_type": "stream",
          "name": "stdout",
          "text": [
            "\u001b[1m2/2\u001b[0m \u001b[32m━━━━━━━━━━━━━━━━━━━━\u001b[0m\u001b[37m\u001b[0m \u001b[1m2s\u001b[0m 171ms/step\n"
          ]
        },
        {
          "output_type": "display_data",
          "data": {
            "text/plain": [
              "<Figure size 600x500 with 1 Axes>"
            ],
            "image/png": "[encoded data removed]"
          },
          "metadata": {}
        }
      ]
    },
    {
      "cell_type": "markdown",
      "source": [
        "How to compress and export model to TensorFlow Lite?"
      ],
      "metadata": {
        "id": "WfGmUfJzpSzJ"
      }
    },
    {
      "cell_type": "code",
      "source": [
        "# Convert to TFLite for deployment on mobile devices\n",
        "converter = tf.lite.TFLiteConverter.from_keras_model(transfer_model)\n",
        "tflite_model = converter.convert()\n",
        "\n",
        "with open('covid19_model.tflite', 'wb') as f:\n",
        "    f.write(tflite_model)\n",
        "\n",
        "print('Model exported as TFLite (covid19_model.tflite)')\n"
      ],
      "metadata": {
        "id": "8PEaIK_JpTGy",
        "colab": {
          "base_uri": "https://localhost:8080/"
        },
        "outputId": "d0ec4d30-f478-494e-fabd-5ea8e21566fc"
      },
      "execution_count": 30,
      "outputs": [
        {
          "output_type": "stream",
          "name": "stdout",
          "text": [
            "Saved artifact at '/tmp/tmpl5z46h17'. The following endpoints are available:\n",
            "\n",
            "* Endpoint 'serve'\n",
            "  args_0 (POSITIONAL_ONLY): TensorSpec(shape=(None, 224, 224, 3), dtype=tf.float32, name='keras_tensor_379')\n",
            "Output Type:\n",
            "  TensorSpec(shape=(None, 2), dtype=tf.float32, name=None)\n",
            "Captures:\n",
            "  134126632244368: TensorSpec(shape=(1, 1, 1, 3), dtype=tf.float32, name=None)\n",
            "  134126012585872: TensorSpec(shape=(), dtype=tf.resource, name=None)\n",
            "  134126012592784: TensorSpec(shape=(), dtype=tf.resource, name=None)\n",
            "  134126012593168: TensorSpec(shape=(), dtype=tf.resource, name=None)\n",
            "  134126012593552: TensorSpec(shape=(), dtype=tf.resource, name=None)\n",
            "  134126012593360: TensorSpec(shape=(), dtype=tf.resource, name=None)\n",
            "  134126012592592: TensorSpec(shape=(), dtype=tf.resource, name=None)\n",
            "  134126012594320: TensorSpec(shape=(), dtype=tf.resource, name=None)\n",
            "  134126012593936: TensorSpec(shape=(), dtype=tf.resource, name=None)\n",
            "  134126012588944: TensorSpec(shape=(), dtype=tf.resource, name=None)\n",
            "  134126012595856: TensorSpec(shape=(), dtype=tf.resource, name=None)\n",
            "  134126012595664: TensorSpec(shape=(), dtype=tf.resource, name=None)\n",
            "  134126012593744: TensorSpec(shape=(), dtype=tf.resource, name=None)\n",
            "  134126012595472: TensorSpec(shape=(), dtype=tf.resource, name=None)\n",
            "  134126012595088: TensorSpec(shape=(), dtype=tf.resource, name=None)\n",
            "  134126012592208: TensorSpec(shape=(), dtype=tf.resource, name=None)\n",
            "  134126063010448: TensorSpec(shape=(), dtype=tf.resource, name=None)\n",
            "  134126012594128: TensorSpec(shape=(), dtype=tf.resource, name=None)\n",
            "  134126012594704: TensorSpec(shape=(), dtype=tf.resource, name=None)\n",
            "  134126063011792: TensorSpec(shape=(), dtype=tf.resource, name=None)\n",
            "  134126012595280: TensorSpec(shape=(), dtype=tf.resource, name=None)\n",
            "  134126012592976: TensorSpec(shape=(), dtype=tf.resource, name=None)\n",
            "  134126012587600: TensorSpec(shape=(), dtype=tf.resource, name=None)\n",
            "  134126012590288: TensorSpec(shape=(), dtype=tf.resource, name=None)\n",
            "  134126012594896: TensorSpec(shape=(), dtype=tf.resource, name=None)\n",
            "  134126012594512: TensorSpec(shape=(), dtype=tf.resource, name=None)\n",
            "  134126012589712: TensorSpec(shape=(), dtype=tf.resource, name=None)\n",
            "  134126063017552: TensorSpec(shape=(), dtype=tf.resource, name=None)\n",
            "  134126063017168: TensorSpec(shape=(), dtype=tf.resource, name=None)\n",
            "  134126012596048: TensorSpec(shape=(), dtype=tf.resource, name=None)\n",
            "  134126063013712: TensorSpec(shape=(), dtype=tf.resource, name=None)\n",
            "  134126063011216: TensorSpec(shape=(), dtype=tf.resource, name=None)\n",
            "  134126063018704: TensorSpec(shape=(), dtype=tf.resource, name=None)\n",
            "  134126007273040: TensorSpec(shape=(), dtype=tf.resource, name=None)\n",
            "  134126007273232: TensorSpec(shape=(), dtype=tf.resource, name=None)\n",
            "  134126007272464: TensorSpec(shape=(), dtype=tf.resource, name=None)\n",
            "  134126007271888: TensorSpec(shape=(), dtype=tf.resource, name=None)\n",
            "  134126007271696: TensorSpec(shape=(), dtype=tf.resource, name=None)\n",
            "  134126007272272: TensorSpec(shape=(), dtype=tf.resource, name=None)\n",
            "  134126007272656: TensorSpec(shape=(), dtype=tf.resource, name=None)\n",
            "  134126007274384: TensorSpec(shape=(), dtype=tf.resource, name=None)\n",
            "  134126007274192: TensorSpec(shape=(), dtype=tf.resource, name=None)\n",
            "  134126007272848: TensorSpec(shape=(), dtype=tf.resource, name=None)\n",
            "  134126007274000: TensorSpec(shape=(), dtype=tf.resource, name=None)\n",
            "  134126007273424: TensorSpec(shape=(), dtype=tf.resource, name=None)\n",
            "  134126007272080: TensorSpec(shape=(), dtype=tf.resource, name=None)\n",
            "  134126007275536: TensorSpec(shape=(), dtype=tf.resource, name=None)\n",
            "  134126007275344: TensorSpec(shape=(), dtype=tf.resource, name=None)\n",
            "  134126007273616: TensorSpec(shape=(), dtype=tf.resource, name=None)\n",
            "  134126007275152: TensorSpec(shape=(), dtype=tf.resource, name=None)\n",
            "  134126007274576: TensorSpec(shape=(), dtype=tf.resource, name=None)\n",
            "  134126007271504: TensorSpec(shape=(), dtype=tf.resource, name=None)\n",
            "  134126007276688: TensorSpec(shape=(), dtype=tf.resource, name=None)\n",
            "  134126007276496: TensorSpec(shape=(), dtype=tf.resource, name=None)\n",
            "  134126007274768: TensorSpec(shape=(), dtype=tf.resource, name=None)\n",
            "  134126007276304: TensorSpec(shape=(), dtype=tf.resource, name=None)\n",
            "  134126007275728: TensorSpec(shape=(), dtype=tf.resource, name=None)\n",
            "  134126007273808: TensorSpec(shape=(), dtype=tf.resource, name=None)\n",
            "  134126007277840: TensorSpec(shape=(), dtype=tf.resource, name=None)\n",
            "  134126007277648: TensorSpec(shape=(), dtype=tf.resource, name=None)\n",
            "  134126007275920: TensorSpec(shape=(), dtype=tf.resource, name=None)\n",
            "  134126007277456: TensorSpec(shape=(), dtype=tf.resource, name=None)\n",
            "  134126007276880: TensorSpec(shape=(), dtype=tf.resource, name=None)\n",
            "  134126007274960: TensorSpec(shape=(), dtype=tf.resource, name=None)\n",
            "  134126007278992: TensorSpec(shape=(), dtype=tf.resource, name=None)\n",
            "  134126007278800: TensorSpec(shape=(), dtype=tf.resource, name=None)\n",
            "  134126007277072: TensorSpec(shape=(), dtype=tf.resource, name=None)\n",
            "  134126007279760: TensorSpec(shape=(), dtype=tf.resource, name=None)\n",
            "  134126007279184: TensorSpec(shape=(), dtype=tf.resource, name=None)\n",
            "  134126007277264: TensorSpec(shape=(), dtype=tf.resource, name=None)\n",
            "  134126007281296: TensorSpec(shape=(), dtype=tf.resource, name=None)\n",
            "  134126007281104: TensorSpec(shape=(), dtype=tf.resource, name=None)\n",
            "  134126007279376: TensorSpec(shape=(), dtype=tf.resource, name=None)\n",
            "  134126007280912: TensorSpec(shape=(), dtype=tf.resource, name=None)\n",
            "  134126007280336: TensorSpec(shape=(), dtype=tf.resource, name=None)\n",
            "  134126007278416: TensorSpec(shape=(), dtype=tf.resource, name=None)\n",
            "  134126007282448: TensorSpec(shape=(), dtype=tf.resource, name=None)\n",
            "  134126007282256: TensorSpec(shape=(), dtype=tf.resource, name=None)\n",
            "  134126007280528: TensorSpec(shape=(), dtype=tf.resource, name=None)\n",
            "  134126007282064: TensorSpec(shape=(), dtype=tf.resource, name=None)\n",
            "  134126007281488: TensorSpec(shape=(), dtype=tf.resource, name=None)\n",
            "  134126007278608: TensorSpec(shape=(), dtype=tf.resource, name=None)\n",
            "  134126007278032: TensorSpec(shape=(), dtype=tf.resource, name=None)\n",
            "  134126007276112: TensorSpec(shape=(), dtype=tf.resource, name=None)\n",
            "  134126007280144: TensorSpec(shape=(), dtype=tf.resource, name=None)\n",
            "  134126007279952: TensorSpec(shape=(), dtype=tf.resource, name=None)\n",
            "  134126007278224: TensorSpec(shape=(), dtype=tf.resource, name=None)\n",
            "  134126007279568: TensorSpec(shape=(), dtype=tf.resource, name=None)\n",
            "  134126007283600: TensorSpec(shape=(), dtype=tf.resource, name=None)\n",
            "  134126007283408: TensorSpec(shape=(), dtype=tf.resource, name=None)\n",
            "  134126007281680: TensorSpec(shape=(), dtype=tf.resource, name=None)\n",
            "  134126007283216: TensorSpec(shape=(), dtype=tf.resource, name=None)\n",
            "  134126007282640: TensorSpec(shape=(), dtype=tf.resource, name=None)\n",
            "  134126007280720: TensorSpec(shape=(), dtype=tf.resource, name=None)\n",
            "  134126007284752: TensorSpec(shape=(), dtype=tf.resource, name=None)\n",
            "  134126007284560: TensorSpec(shape=(), dtype=tf.resource, name=None)\n",
            "  134126007282832: TensorSpec(shape=(), dtype=tf.resource, name=None)\n",
            "  134126007284368: TensorSpec(shape=(), dtype=tf.resource, name=None)\n",
            "  134126007283792: TensorSpec(shape=(), dtype=tf.resource, name=None)\n",
            "  134126007281872: TensorSpec(shape=(), dtype=tf.resource, name=None)\n",
            "  134126007285904: TensorSpec(shape=(), dtype=tf.resource, name=None)\n",
            "  134126007285712: TensorSpec(shape=(), dtype=tf.resource, name=None)\n",
            "  134126007283984: TensorSpec(shape=(), dtype=tf.resource, name=None)\n",
            "  134126007285520: TensorSpec(shape=(), dtype=tf.resource, name=None)\n",
            "  134126007284944: TensorSpec(shape=(), dtype=tf.resource, name=None)\n",
            "  134126007283024: TensorSpec(shape=(), dtype=tf.resource, name=None)\n",
            "  134126007287056: TensorSpec(shape=(), dtype=tf.resource, name=None)\n",
            "  134126007286864: TensorSpec(shape=(), dtype=tf.resource, name=None)\n",
            "  134126007285136: TensorSpec(shape=(), dtype=tf.resource, name=None)\n",
            "  134126007286672: TensorSpec(shape=(), dtype=tf.resource, name=None)\n",
            "  134126007287632: TensorSpec(shape=(), dtype=tf.resource, name=None)\n",
            "  134126007287248: TensorSpec(shape=(), dtype=tf.resource, name=None)\n",
            "  134126007286096: TensorSpec(shape=(), dtype=tf.resource, name=None)\n",
            "  134126007285328: TensorSpec(shape=(), dtype=tf.resource, name=None)\n",
            "  134126007286288: TensorSpec(shape=(), dtype=tf.resource, name=None)\n",
            "  134126007287440: TensorSpec(shape=(), dtype=tf.resource, name=None)\n",
            "  134126007286480: TensorSpec(shape=(), dtype=tf.resource, name=None)\n",
            "  134126007992784: TensorSpec(shape=(), dtype=tf.resource, name=None)\n",
            "  134126007993936: TensorSpec(shape=(), dtype=tf.resource, name=None)\n",
            "  134126007284176: TensorSpec(shape=(), dtype=tf.resource, name=None)\n",
            "  134126007993360: TensorSpec(shape=(), dtype=tf.resource, name=None)\n",
            "  134126007993744: TensorSpec(shape=(), dtype=tf.resource, name=None)\n",
            "  134126007992976: TensorSpec(shape=(), dtype=tf.resource, name=None)\n",
            "  134126007992592: TensorSpec(shape=(), dtype=tf.resource, name=None)\n",
            "  134126007995088: TensorSpec(shape=(), dtype=tf.resource, name=None)\n",
            "  134126007994896: TensorSpec(shape=(), dtype=tf.resource, name=None)\n",
            "  134126007992400: TensorSpec(shape=(), dtype=tf.resource, name=None)\n",
            "  134126007994704: TensorSpec(shape=(), dtype=tf.resource, name=None)\n",
            "  134126007994128: TensorSpec(shape=(), dtype=tf.resource, name=None)\n",
            "  134126007993168: TensorSpec(shape=(), dtype=tf.resource, name=None)\n",
            "  134126007996240: TensorSpec(shape=(), dtype=tf.resource, name=None)\n",
            "  134126007996048: TensorSpec(shape=(), dtype=tf.resource, name=None)\n",
            "  134126007994320: TensorSpec(shape=(), dtype=tf.resource, name=None)\n",
            "  134126007995856: TensorSpec(shape=(), dtype=tf.resource, name=None)\n",
            "  134126007995280: TensorSpec(shape=(), dtype=tf.resource, name=None)\n",
            "  134126007993552: TensorSpec(shape=(), dtype=tf.resource, name=None)\n",
            "  134126007997392: TensorSpec(shape=(), dtype=tf.resource, name=None)\n",
            "  134126007997200: TensorSpec(shape=(), dtype=tf.resource, name=None)\n",
            "  134126007995472: TensorSpec(shape=(), dtype=tf.resource, name=None)\n",
            "  134126007997008: TensorSpec(shape=(), dtype=tf.resource, name=None)\n",
            "  134126007996432: TensorSpec(shape=(), dtype=tf.resource, name=None)\n",
            "  134126007994512: TensorSpec(shape=(), dtype=tf.resource, name=None)\n",
            "  134126007998544: TensorSpec(shape=(), dtype=tf.resource, name=None)\n",
            "  134126007998352: TensorSpec(shape=(), dtype=tf.resource, name=None)\n",
            "  134126007996624: TensorSpec(shape=(), dtype=tf.resource, name=None)\n",
            "  134126007999312: TensorSpec(shape=(), dtype=tf.resource, name=None)\n",
            "  134126007998736: TensorSpec(shape=(), dtype=tf.resource, name=None)\n",
            "  134126007996816: TensorSpec(shape=(), dtype=tf.resource, name=None)\n",
            "  134126008000848: TensorSpec(shape=(), dtype=tf.resource, name=None)\n",
            "  134126008000656: TensorSpec(shape=(), dtype=tf.resource, name=None)\n",
            "  134126007998928: TensorSpec(shape=(), dtype=tf.resource, name=None)\n",
            "  134126008000464: TensorSpec(shape=(), dtype=tf.resource, name=None)\n",
            "  134126007999888: TensorSpec(shape=(), dtype=tf.resource, name=None)\n",
            "  134126007997968: TensorSpec(shape=(), dtype=tf.resource, name=None)\n",
            "  134126008002000: TensorSpec(shape=(), dtype=tf.resource, name=None)\n",
            "  134126008001808: TensorSpec(shape=(), dtype=tf.resource, name=None)\n",
            "  134126008000080: TensorSpec(shape=(), dtype=tf.resource, name=None)\n",
            "  134126008001616: TensorSpec(shape=(), dtype=tf.resource, name=None)\n",
            "  134126008001040: TensorSpec(shape=(), dtype=tf.resource, name=None)\n",
            "  134126007998160: TensorSpec(shape=(), dtype=tf.resource, name=None)\n",
            "  134126007997584: TensorSpec(shape=(), dtype=tf.resource, name=None)\n",
            "  134126007995664: TensorSpec(shape=(), dtype=tf.resource, name=None)\n",
            "  134126007999696: TensorSpec(shape=(), dtype=tf.resource, name=None)\n",
            "  134126007999504: TensorSpec(shape=(), dtype=tf.resource, name=None)\n",
            "  134126007997776: TensorSpec(shape=(), dtype=tf.resource, name=None)\n",
            "  134126007999120: TensorSpec(shape=(), dtype=tf.resource, name=None)\n",
            "  134126008003152: TensorSpec(shape=(), dtype=tf.resource, name=None)\n",
            "  134126008002960: TensorSpec(shape=(), dtype=tf.resource, name=None)\n",
            "  134126008001232: TensorSpec(shape=(), dtype=tf.resource, name=None)\n",
            "  134126008002768: TensorSpec(shape=(), dtype=tf.resource, name=None)\n",
            "  134126008002192: TensorSpec(shape=(), dtype=tf.resource, name=None)\n",
            "  134126008000272: TensorSpec(shape=(), dtype=tf.resource, name=None)\n",
            "  134126008004304: TensorSpec(shape=(), dtype=tf.resource, name=None)\n",
            "  134126008004112: TensorSpec(shape=(), dtype=tf.resource, name=None)\n",
            "  134126008002384: TensorSpec(shape=(), dtype=tf.resource, name=None)\n",
            "  134126008003920: TensorSpec(shape=(), dtype=tf.resource, name=None)\n",
            "  134126008003344: TensorSpec(shape=(), dtype=tf.resource, name=None)\n",
            "  134126008001424: TensorSpec(shape=(), dtype=tf.resource, name=None)\n",
            "  134126008005456: TensorSpec(shape=(), dtype=tf.resource, name=None)\n",
            "  134126008005264: TensorSpec(shape=(), dtype=tf.resource, name=None)\n",
            "  134126008003536: TensorSpec(shape=(), dtype=tf.resource, name=None)\n",
            "  134126008005072: TensorSpec(shape=(), dtype=tf.resource, name=None)\n",
            "  134126008004496: TensorSpec(shape=(), dtype=tf.resource, name=None)\n",
            "  134126008002576: TensorSpec(shape=(), dtype=tf.resource, name=None)\n",
            "  134126008006608: TensorSpec(shape=(), dtype=tf.resource, name=None)\n",
            "  134126008006416: TensorSpec(shape=(), dtype=tf.resource, name=None)\n",
            "  134126008004688: TensorSpec(shape=(), dtype=tf.resource, name=None)\n",
            "  134126008006224: TensorSpec(shape=(), dtype=tf.resource, name=None)\n",
            "  134126008005648: TensorSpec(shape=(), dtype=tf.resource, name=None)\n",
            "  134126008003728: TensorSpec(shape=(), dtype=tf.resource, name=None)\n",
            "  134126008007760: TensorSpec(shape=(), dtype=tf.resource, name=None)\n",
            "  134126008007568: TensorSpec(shape=(), dtype=tf.resource, name=None)\n",
            "  134126008005840: TensorSpec(shape=(), dtype=tf.resource, name=None)\n",
            "  134126008007376: TensorSpec(shape=(), dtype=tf.resource, name=None)\n",
            "  134126008008528: TensorSpec(shape=(), dtype=tf.resource, name=None)\n",
            "  134126008006032: TensorSpec(shape=(), dtype=tf.resource, name=None)\n",
            "  134126008004880: TensorSpec(shape=(), dtype=tf.resource, name=None)\n",
            "  134126008007952: TensorSpec(shape=(), dtype=tf.resource, name=None)\n",
            "  134126008006992: TensorSpec(shape=(), dtype=tf.resource, name=None)\n",
            "  134126008006800: TensorSpec(shape=(), dtype=tf.resource, name=None)\n",
            "  134126008008336: TensorSpec(shape=(), dtype=tf.resource, name=None)\n",
            "  134126010336272: TensorSpec(shape=(), dtype=tf.resource, name=None)\n",
            "  134126010335696: TensorSpec(shape=(), dtype=tf.resource, name=None)\n",
            "  134126008007184: TensorSpec(shape=(), dtype=tf.resource, name=None)\n",
            "  134126008008144: TensorSpec(shape=(), dtype=tf.resource, name=None)\n",
            "  134126010335312: TensorSpec(shape=(), dtype=tf.resource, name=None)\n",
            "  134126010336080: TensorSpec(shape=(), dtype=tf.resource, name=None)\n",
            "  134126010336656: TensorSpec(shape=(), dtype=tf.resource, name=None)\n",
            "  134126010337808: TensorSpec(shape=(), dtype=tf.resource, name=None)\n",
            "  134126010337616: TensorSpec(shape=(), dtype=tf.resource, name=None)\n",
            "  134126010336464: TensorSpec(shape=(), dtype=tf.resource, name=None)\n",
            "  134126010337424: TensorSpec(shape=(), dtype=tf.resource, name=None)\n",
            "  134126010336848: TensorSpec(shape=(), dtype=tf.resource, name=None)\n",
            "  134126010335888: TensorSpec(shape=(), dtype=tf.resource, name=None)\n",
            "  134126010338960: TensorSpec(shape=(), dtype=tf.resource, name=None)\n",
            "  134126010338768: TensorSpec(shape=(), dtype=tf.resource, name=None)\n",
            "  134126010337040: TensorSpec(shape=(), dtype=tf.resource, name=None)\n",
            "  134126010338576: TensorSpec(shape=(), dtype=tf.resource, name=None)\n",
            "  134126010338000: TensorSpec(shape=(), dtype=tf.resource, name=None)\n",
            "  134126010335504: TensorSpec(shape=(), dtype=tf.resource, name=None)\n",
            "  134126010340112: TensorSpec(shape=(), dtype=tf.resource, name=None)\n",
            "  134126010339920: TensorSpec(shape=(), dtype=tf.resource, name=None)\n",
            "  134126010338192: TensorSpec(shape=(), dtype=tf.resource, name=None)\n",
            "  134126010339728: TensorSpec(shape=(), dtype=tf.resource, name=None)\n",
            "  134126010339152: TensorSpec(shape=(), dtype=tf.resource, name=None)\n",
            "  134126010337232: TensorSpec(shape=(), dtype=tf.resource, name=None)\n",
            "  134126010341264: TensorSpec(shape=(), dtype=tf.resource, name=None)\n",
            "  134126010341072: TensorSpec(shape=(), dtype=tf.resource, name=None)\n",
            "  134126010339344: TensorSpec(shape=(), dtype=tf.resource, name=None)\n",
            "  134126010340880: TensorSpec(shape=(), dtype=tf.resource, name=None)\n",
            "  134126010340304: TensorSpec(shape=(), dtype=tf.resource, name=None)\n",
            "  134126010338384: TensorSpec(shape=(), dtype=tf.resource, name=None)\n",
            "  134126010342416: TensorSpec(shape=(), dtype=tf.resource, name=None)\n",
            "  134126010342224: TensorSpec(shape=(), dtype=tf.resource, name=None)\n",
            "  134126010340496: TensorSpec(shape=(), dtype=tf.resource, name=None)\n",
            "  134126010342032: TensorSpec(shape=(), dtype=tf.resource, name=None)\n",
            "  134126010341456: TensorSpec(shape=(), dtype=tf.resource, name=None)\n",
            "  134126010339536: TensorSpec(shape=(), dtype=tf.resource, name=None)\n",
            "  134126010343568: TensorSpec(shape=(), dtype=tf.resource, name=None)\n",
            "  134126010343376: TensorSpec(shape=(), dtype=tf.resource, name=None)\n",
            "  134126010341648: TensorSpec(shape=(), dtype=tf.resource, name=None)\n",
            "  134126010343184: TensorSpec(shape=(), dtype=tf.resource, name=None)\n",
            "  134126010342608: TensorSpec(shape=(), dtype=tf.resource, name=None)\n",
            "  134126010340688: TensorSpec(shape=(), dtype=tf.resource, name=None)\n",
            "  134126010344720: TensorSpec(shape=(), dtype=tf.resource, name=None)\n",
            "  134126010344528: TensorSpec(shape=(), dtype=tf.resource, name=None)\n",
            "  134126010342800: TensorSpec(shape=(), dtype=tf.resource, name=None)\n",
            "  134126010344336: TensorSpec(shape=(), dtype=tf.resource, name=None)\n",
            "  134126010343760: TensorSpec(shape=(), dtype=tf.resource, name=None)\n",
            "  134126010341840: TensorSpec(shape=(), dtype=tf.resource, name=None)\n",
            "  134126010345872: TensorSpec(shape=(), dtype=tf.resource, name=None)\n",
            "  134126010345680: TensorSpec(shape=(), dtype=tf.resource, name=None)\n",
            "  134126010343952: TensorSpec(shape=(), dtype=tf.resource, name=None)\n",
            "  134126010345488: TensorSpec(shape=(), dtype=tf.resource, name=None)\n",
            "  134126010344912: TensorSpec(shape=(), dtype=tf.resource, name=None)\n",
            "  134126010342992: TensorSpec(shape=(), dtype=tf.resource, name=None)\n",
            "  134126010347024: TensorSpec(shape=(), dtype=tf.resource, name=None)\n",
            "  134126010346832: TensorSpec(shape=(), dtype=tf.resource, name=None)\n",
            "  134126010345104: TensorSpec(shape=(), dtype=tf.resource, name=None)\n",
            "  134126010347792: TensorSpec(shape=(), dtype=tf.resource, name=None)\n",
            "  134126010347216: TensorSpec(shape=(), dtype=tf.resource, name=None)\n",
            "  134126010345296: TensorSpec(shape=(), dtype=tf.resource, name=None)\n",
            "  134126010349328: TensorSpec(shape=(), dtype=tf.resource, name=None)\n",
            "  134126010349136: TensorSpec(shape=(), dtype=tf.resource, name=None)\n",
            "  134126010347408: TensorSpec(shape=(), dtype=tf.resource, name=None)\n",
            "  134126010348944: TensorSpec(shape=(), dtype=tf.resource, name=None)\n",
            "  134126010348368: TensorSpec(shape=(), dtype=tf.resource, name=None)\n",
            "  134126010346448: TensorSpec(shape=(), dtype=tf.resource, name=None)\n",
            "  134126010350480: TensorSpec(shape=(), dtype=tf.resource, name=None)\n",
            "  134126010350288: TensorSpec(shape=(), dtype=tf.resource, name=None)\n",
            "  134126010348560: TensorSpec(shape=(), dtype=tf.resource, name=None)\n",
            "  134126010350096: TensorSpec(shape=(), dtype=tf.resource, name=None)\n",
            "  134126010349520: TensorSpec(shape=(), dtype=tf.resource, name=None)\n",
            "  134126010346640: TensorSpec(shape=(), dtype=tf.resource, name=None)\n",
            "  134126010346064: TensorSpec(shape=(), dtype=tf.resource, name=None)\n",
            "  134126010344144: TensorSpec(shape=(), dtype=tf.resource, name=None)\n",
            "  134126010348176: TensorSpec(shape=(), dtype=tf.resource, name=None)\n",
            "  134126010347984: TensorSpec(shape=(), dtype=tf.resource, name=None)\n",
            "  134126010346256: TensorSpec(shape=(), dtype=tf.resource, name=None)\n",
            "  134126010350864: TensorSpec(shape=(), dtype=tf.resource, name=None)\n",
            "  134126010351056: TensorSpec(shape=(), dtype=tf.resource, name=None)\n",
            "  134126010351440: TensorSpec(shape=(), dtype=tf.resource, name=None)\n",
            "  134126010349712: TensorSpec(shape=(), dtype=tf.resource, name=None)\n",
            "  134126010349904: TensorSpec(shape=(), dtype=tf.resource, name=None)\n",
            "  134126010347600: TensorSpec(shape=(), dtype=tf.resource, name=None)\n",
            "  134126010348752: TensorSpec(shape=(), dtype=tf.resource, name=None)\n",
            "  134126632240144: TensorSpec(shape=(), dtype=tf.resource, name=None)\n",
            "  134126010350672: TensorSpec(shape=(), dtype=tf.resource, name=None)\n",
            "  134126010351248: TensorSpec(shape=(), dtype=tf.resource, name=None)\n",
            "  134126632240336: TensorSpec(shape=(), dtype=tf.resource, name=None)\n",
            "  134126632239760: TensorSpec(shape=(), dtype=tf.resource, name=None)\n",
            "  134126632239184: TensorSpec(shape=(), dtype=tf.resource, name=None)\n",
            "  134126632241488: TensorSpec(shape=(), dtype=tf.resource, name=None)\n",
            "  134126632241296: TensorSpec(shape=(), dtype=tf.resource, name=None)\n",
            "  134126632239376: TensorSpec(shape=(), dtype=tf.resource, name=None)\n",
            "  134126632241104: TensorSpec(shape=(), dtype=tf.resource, name=None)\n",
            "  134126632239568: TensorSpec(shape=(), dtype=tf.resource, name=None)\n",
            "  134126632239952: TensorSpec(shape=(), dtype=tf.resource, name=None)\n",
            "  134126632242640: TensorSpec(shape=(), dtype=tf.resource, name=None)\n",
            "  134126632242448: TensorSpec(shape=(), dtype=tf.resource, name=None)\n",
            "  134126632240720: TensorSpec(shape=(), dtype=tf.resource, name=None)\n",
            "  134126632242256: TensorSpec(shape=(), dtype=tf.resource, name=None)\n",
            "  134126632241680: TensorSpec(shape=(), dtype=tf.resource, name=None)\n",
            "  134126632240528: TensorSpec(shape=(), dtype=tf.resource, name=None)\n",
            "  134126632243792: TensorSpec(shape=(), dtype=tf.resource, name=None)\n",
            "  134126632243600: TensorSpec(shape=(), dtype=tf.resource, name=None)\n",
            "  134126632241872: TensorSpec(shape=(), dtype=tf.resource, name=None)\n",
            "  134126632243408: TensorSpec(shape=(), dtype=tf.resource, name=None)\n",
            "  134126632242832: TensorSpec(shape=(), dtype=tf.resource, name=None)\n",
            "  134126632240912: TensorSpec(shape=(), dtype=tf.resource, name=None)\n",
            "  134126632244944: TensorSpec(shape=(), dtype=tf.resource, name=None)\n",
            "  134126632244752: TensorSpec(shape=(), dtype=tf.resource, name=None)\n",
            "  134126632243024: TensorSpec(shape=(), dtype=tf.resource, name=None)\n",
            "  134126632244560: TensorSpec(shape=(), dtype=tf.resource, name=None)\n",
            "  134126632243984: TensorSpec(shape=(), dtype=tf.resource, name=None)\n",
            "  134126632242064: TensorSpec(shape=(), dtype=tf.resource, name=None)\n",
            "  134126632246096: TensorSpec(shape=(), dtype=tf.resource, name=None)\n",
            "  134126632245904: TensorSpec(shape=(), dtype=tf.resource, name=None)\n",
            "  134126632244176: TensorSpec(shape=(), dtype=tf.resource, name=None)\n",
            "  134126632245712: TensorSpec(shape=(), dtype=tf.resource, name=None)\n",
            "  134126632246288: TensorSpec(shape=(), dtype=tf.resource, name=None)\n",
            "Model exported as TFLite (covid19_model.tflite)\n"
          ]
        }
      ]
    },
    {
      "cell_type": "markdown",
      "source": [
        "How to explain model predictions using SHAP (Explainable AI)?"
      ],
      "metadata": {
        "id": "0e8YknCkpTRe"
      }
    },
    {
      "cell_type": "code",
      "source": [
        "# Install SHAP for model explainability\n",
        "!pip install shap\n",
        "\n",
        "import shap\n",
        "import numpy as np\n",
        "\n",
        "# Create an explainer for a few validation samples\n",
        "background = next(val_gen)[0][:50]  # sample background data\n",
        "explainer = shap.GradientExplainer(transfer_model, background)\n",
        "\n",
        "# Select one test image\n",
        "x_sample, _ = next(test_gen)\n",
        "shap_values = explainer.shap_values(x_sample)\n",
        "\n",
        "# Visualize explanation\n",
        "shap.image_plot(shap_values, x_sample)\n"
      ],
      "metadata": {
        "id": "Ps1-nHxApTks",
        "colab": {
          "base_uri": "https://localhost:8080/"
        },
        "outputId": "cc5a77d8-cede-4452-b2b7-9bfea6b864c6"
      },
      "execution_count": null,
      "outputs": [
        {
          "output_type": "stream",
          "name": "stdout",
          "text": [
            "Requirement already satisfied: shap in /usr/local/lib/python3.12/dist-packages (0.49.1)\n",
            "Requirement already satisfied: numpy in /usr/local/lib/python3.12/dist-packages (from shap) (2.0.2)\n",
            "Requirement already satisfied: scipy in /usr/local/lib/python3.12/dist-packages (from shap) (1.16.3)\n",
            "Requirement already satisfied: scikit-learn in /usr/local/lib/python3.12/dist-packages (from shap) (1.6.1)\n",
            "Requirement already satisfied: pandas in /usr/local/lib/python3.12/dist-packages (from shap) (2.2.2)\n",
            "Requirement already satisfied: tqdm>=4.27.0 in /usr/local/lib/python3.12/dist-packages (from shap) (4.67.1)\n",
            "Requirement already satisfied: packaging>20.9 in /usr/local/lib/python3.12/dist-packages (from shap) (25.0)\n",
            "Requirement already satisfied: slicer==0.0.8 in /usr/local/lib/python3.12/dist-packages (from shap) (0.0.8)\n",
            "Requirement already satisfied: numba>=0.54 in /usr/local/lib/python3.12/dist-packages (from shap) (0.60.0)\n",
            "Requirement already satisfied: cloudpickle in /usr/local/lib/python3.12/dist-packages (from shap) (3.1.1)\n",
            "Requirement already satisfied: typing-extensions in /usr/local/lib/python3.12/dist-packages (from shap) (4.15.0)\n",
            "Requirement already satisfied: llvmlite<0.44,>=0.43.0dev0 in /usr/local/lib/python3.12/dist-packages (from numba>=0.54->shap) (0.43.0)\n",
            "Requirement already satisfied: python-dateutil>=2.8.2 in /usr/local/lib/python3.12/dist-packages (from pandas->shap) (2.9.0.post0)\n",
            "Requirement already satisfied: pytz>=2020.1 in /usr/local/lib/python3.12/dist-packages (from pandas->shap) (2025.2)\n",
            "Requirement already satisfied: tzdata>=2022.7 in /usr/local/lib/python3.12/dist-packages (from pandas->shap) (2025.2)\n",
            "Requirement already satisfied: joblib>=1.2.0 in /usr/local/lib/python3.12/dist-packages (from scikit-learn->shap) (1.5.2)\n",
            "Requirement already satisfied: threadpoolctl>=3.1.0 in /usr/local/lib/python3.12/dist-packages (from scikit-learn->shap) (3.6.0)\n",
            "Requirement already satisfied: six>=1.5 in /usr/local/lib/python3.12/dist-packages (from python-dateutil>=2.8.2->pandas->shap) (1.17.0)\n"
          ]
        },
        {
          "output_type": "stream",
          "name": "stderr",
          "text": [
            "/usr/local/lib/python3.12/dist-packages/keras/src/models/functional.py:241: UserWarning: The structure of `inputs` doesn't match the expected structure.\n",
            "Expected: keras_tensor_379\n",
            "Received: inputs=['Tensor(shape=(1, 224, 224, 3))']\n",
            "  warnings.warn(msg)\n",
            "/usr/local/lib/python3.12/dist-packages/keras/src/models/functional.py:241: UserWarning: The structure of `inputs` doesn't match the expected structure.\n",
            "Expected: keras_tensor_379\n",
            "Received: inputs=['Tensor(shape=(50, 224, 224, 3))']\n",
            "  warnings.warn(msg)\n"
          ]
        }
      ]
    }
  ]
}